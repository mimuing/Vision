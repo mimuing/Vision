{
 "cells": [
  {
   "cell_type": "code",
   "execution_count": 5,
   "metadata": {},
   "outputs": [],
   "source": [
    "import numpy as np\n",
    "# import mahotas as mh\n",
    "import os\n",
    "# import matplotlib.pyplot as plt\n",
    "import cv2\n",
    "import pywt\n",
    "import pywt.data"
   ]
  },
  {
   "cell_type": "markdown",
   "metadata": {},
   "source": [
    "### 이미지 스택으로부터 EDOF 결합 함수 (Multi level Wavelet Transform)"
   ]
  },
  {
   "cell_type": "code",
   "execution_count": 2,
   "metadata": {},
   "outputs": [],
   "source": [
    "def combine_focus_stack(stack, num_levels):\n",
    "    # 초기화: 결과 이미지 생성 및 모든 픽셀을 0으로 설정\n",
    "    result = np.zeros_like(stack[0], dtype=np.float32)\n",
    "    max_coeff = np.zeros_like(result)\n",
    "\n",
    "    # 스택 내의 모든 이미지에서 해당 위치의 픽셀 값 비교\n",
    "    for k in range(len(stack)):\n",
    "        # 다중 레벨 웨이블릿 변환 적용 (예시: 'haar')\n",
    "        coeffs = pywt.wavedec2(stack[k], 'haar', level=num_levels)\n",
    "\n",
    "        for level in range(1, num_levels + 1):\n",
    "            # LL(저주파 영역) 세부 계수 추출 및 절대값 적용 (웨이블릿 세부 계수는 음수일 수 있음)\n",
    "            LL_abs = np.abs(coeffs[level][0])\n",
    "\n",
    "            for i in range(result.shape[0]):\n",
    "                for j in range(result.shape[1]):\n",
    "                    if LL_abs[i, j] > max_coeff[i, j]:\n",
    "                        max_coeff[i, j] = LL_abs[i, j]\n",
    "                        result[i, j] = stack[k][i, j]\n",
    "\n",
    "    return result.astype(np.uint8)"
   ]
  },
  {
   "cell_type": "markdown",
   "metadata": {},
   "source": [
    "### Image load"
   ]
  },
  {
   "cell_type": "code",
   "execution_count": null,
   "metadata": {},
   "outputs": [],
   "source": [
    "image_folder = \"/works/pythonProject/Test Image/10x_40deg_step20um\"  # 이미지 폴더 경로 설정\n",
    "output_folder = \"/works/pythonProject/Test Image/10x_40deg_step20um/result\"  # 결과 이미지 저장 폴더 경로 설정\n",
    "\n",
    "# 결과 이미지 저장 폴더가 없으면 생성하기\n",
    "if not os.path.exists(output_folder):\n",
    "    os.makedirs(output_folder)\n",
    "\n",
    "# 이미지 폴더에서 파일 목록 가져오기\n",
    "file_list = os.listdir(image_folder)\n",
    "img_files = [file for file in file_list if file.endswith('.bmp')]\n",
    "# image_files = [f for f in os.listdir(image_folder) if os.path.isfile(os.path.join(image_folder, f))]\n",
    "\n",
    "stack = []\n",
    "for file_name in image_files:\n",
    "    file_path = os.path.join(image_folder, file_name)\n",
    "    \n",
    "    # 각 파일을 그레이스케일로 읽어와서 스택에 추가하기\n",
    "    img_gray = cv2.imread(file_path, cv2.IMREAD_GRAYSCALE)\n",
    "    \n",
    "    if img_gray is not None:\n",
    "        stack.append(img_gray)"
   ]
  },
  {
   "cell_type": "markdown",
   "metadata": {},
   "source": [
    "### EDOF Processing"
   ]
  },
  {
   "cell_type": "code",
   "execution_count": null,
   "metadata": {},
   "outputs": [],
   "source": [
    "num_levels = 3  # 다중 레벨 수 설정\n",
    "\n",
    "if len(stack) > 0:\n",
    "    # 다중 초점 이미지 결합 수행\n",
    "    result_image = combine_focus_stack(stack, num_levels)\n",
    "\n",
    "    output_file_path = os.path.join(output_folder, \"EDOF_image.jpg\")\n",
    "     # 결과 저장\n",
    "     cv2.imwrite(output_file_path , result_image)\n",
    "     print(\"Combined image saved successfully.\")\n",
    "else:\n",
    "     print(\"No images found in the folder.\")"
   ]
  },
  {
   "cell_type": "code",
   "execution_count": null,
   "metadata": {},
   "outputs": [],
   "source": []
  }
 ],
 "metadata": {
  "kernelspec": {
   "display_name": "opencv",
   "language": "python",
   "name": "python3"
  },
  "language_info": {
   "codemirror_mode": {
    "name": "ipython",
    "version": 3
   },
   "file_extension": ".py",
   "mimetype": "text/x-python",
   "name": "python",
   "nbconvert_exporter": "python",
   "pygments_lexer": "ipython3",
   "version": "3.9.17"
  },
  "orig_nbformat": 4
 },
 "nbformat": 4,
 "nbformat_minor": 2
}
