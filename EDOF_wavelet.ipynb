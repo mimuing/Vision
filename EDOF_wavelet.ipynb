{
 "cells": [
  {
   "cell_type": "code",
   "execution_count": 2,
   "metadata": {},
   "outputs": [],
   "source": [
    "import numpy as np\n",
    "# import mahotas as mh\n",
    "import os\n",
    "# import matplotlib.pyplot as plt\n",
    "import cv2\n",
    "import pywt\n",
    "import pywt.data"
   ]
  },
  {
   "cell_type": "markdown",
   "metadata": {},
   "source": [
    "### 이미지 스택으로부터 EDOF 결합 함수 (Multi level Wavelet Transform)"
   ]
  },
  {
   "cell_type": "code",
   "execution_count": 3,
   "metadata": {},
   "outputs": [],
   "source": [
    "def combine_focus_stack(stack, num_levels):\n",
    "    # 초기화: 결과 이미지 생성 및 모든 픽셀을 0으로 설정\n",
    "    result = np.zeros_like(stack[0], dtype=np.float32)\n",
    "    max_coeff = np.zeros_like(result)\n",
    "\n",
    "    # 스택 내의 모든 이미지에서 해당 위치의 픽셀 값 비교\n",
    "    for k in range(len(stack)):\n",
    "        # 다중 레벨 웨이블릿 변환 적용 (예시: 'haar')\n",
    "        coeffs = pywt.wavedec2(stack[k], 'haar', level=num_levels)\n",
    "\n",
    "        for level in range(1, num_levels + 1):\n",
    "            # LL(저주파 영역) 세부 계수 추출 및 절대값 적용 (웨이블릿 세부 계수는 음수일 수 있음)\n",
    "            LL_abs = np.abs(coeffs[level][0])\n",
    "\n",
    "            for i in range(result.shape[0]):\n",
    "                for j in range(result.shape[1]):\n",
    "                    if LL_abs[i, j] > max_coeff[i, j]:\n",
    "                        max_coeff[i, j] = LL_abs[i, j]\n",
    "                        result[i, j] = stack[k][i, j]\n",
    "\n",
    "    return result.astype(np.uint8)"
   ]
  },
  {
   "cell_type": "markdown",
   "metadata": {},
   "source": [
    "### Image load"
   ]
  },
  {
   "cell_type": "code",
   "execution_count": 4,
   "metadata": {},
   "outputs": [
    {
     "ename": "OSError",
     "evalue": "[Errno 30] Read-only file system: '/works'",
     "output_type": "error",
     "traceback": [
      "\u001b[0;31m---------------------------------------------------------------------------\u001b[0m",
      "\u001b[0;31mOSError\u001b[0m                                   Traceback (most recent call last)",
      "\u001b[1;32m/Users/arlee/Desktop/project/project_vision/2_EDOF_wavelet.ipynb Cell 5\u001b[0m line \u001b[0;36m6\n\u001b[1;32m      <a href='vscode-notebook-cell:/Users/arlee/Desktop/project/project_vision/2_EDOF_wavelet.ipynb#W4sZmlsZQ%3D%3D?line=3'>4</a>\u001b[0m \u001b[39m# 결과 이미지 저장 폴더가 없으면 생성하기\u001b[39;00m\n\u001b[1;32m      <a href='vscode-notebook-cell:/Users/arlee/Desktop/project/project_vision/2_EDOF_wavelet.ipynb#W4sZmlsZQ%3D%3D?line=4'>5</a>\u001b[0m \u001b[39mif\u001b[39;00m \u001b[39mnot\u001b[39;00m os\u001b[39m.\u001b[39mpath\u001b[39m.\u001b[39mexists(output_folder):\n\u001b[0;32m----> <a href='vscode-notebook-cell:/Users/arlee/Desktop/project/project_vision/2_EDOF_wavelet.ipynb#W4sZmlsZQ%3D%3D?line=5'>6</a>\u001b[0m     os\u001b[39m.\u001b[39;49mmakedirs(output_folder)\n\u001b[1;32m      <a href='vscode-notebook-cell:/Users/arlee/Desktop/project/project_vision/2_EDOF_wavelet.ipynb#W4sZmlsZQ%3D%3D?line=7'>8</a>\u001b[0m \u001b[39m# 이미지 폴더에서 파일 목록 가져오기\u001b[39;00m\n\u001b[1;32m      <a href='vscode-notebook-cell:/Users/arlee/Desktop/project/project_vision/2_EDOF_wavelet.ipynb#W4sZmlsZQ%3D%3D?line=8'>9</a>\u001b[0m file_list \u001b[39m=\u001b[39m os\u001b[39m.\u001b[39mlistdir(image_folder)\n",
      "File \u001b[0;32m~/miniconda3/envs/opencv/lib/python3.9/os.py:215\u001b[0m, in \u001b[0;36mmakedirs\u001b[0;34m(name, mode, exist_ok)\u001b[0m\n\u001b[1;32m    213\u001b[0m \u001b[39mif\u001b[39;00m head \u001b[39mand\u001b[39;00m tail \u001b[39mand\u001b[39;00m \u001b[39mnot\u001b[39;00m path\u001b[39m.\u001b[39mexists(head):\n\u001b[1;32m    214\u001b[0m     \u001b[39mtry\u001b[39;00m:\n\u001b[0;32m--> 215\u001b[0m         makedirs(head, exist_ok\u001b[39m=\u001b[39;49mexist_ok)\n\u001b[1;32m    216\u001b[0m     \u001b[39mexcept\u001b[39;00m \u001b[39mFileExistsError\u001b[39;00m:\n\u001b[1;32m    217\u001b[0m         \u001b[39m# Defeats race condition when another thread created the path\u001b[39;00m\n\u001b[1;32m    218\u001b[0m         \u001b[39mpass\u001b[39;00m\n",
      "File \u001b[0;32m~/miniconda3/envs/opencv/lib/python3.9/os.py:215\u001b[0m, in \u001b[0;36mmakedirs\u001b[0;34m(name, mode, exist_ok)\u001b[0m\n\u001b[1;32m    213\u001b[0m \u001b[39mif\u001b[39;00m head \u001b[39mand\u001b[39;00m tail \u001b[39mand\u001b[39;00m \u001b[39mnot\u001b[39;00m path\u001b[39m.\u001b[39mexists(head):\n\u001b[1;32m    214\u001b[0m     \u001b[39mtry\u001b[39;00m:\n\u001b[0;32m--> 215\u001b[0m         makedirs(head, exist_ok\u001b[39m=\u001b[39;49mexist_ok)\n\u001b[1;32m    216\u001b[0m     \u001b[39mexcept\u001b[39;00m \u001b[39mFileExistsError\u001b[39;00m:\n\u001b[1;32m    217\u001b[0m         \u001b[39m# Defeats race condition when another thread created the path\u001b[39;00m\n\u001b[1;32m    218\u001b[0m         \u001b[39mpass\u001b[39;00m\n",
      "    \u001b[0;31m[... skipping similar frames: makedirs at line 215 (1 times)]\u001b[0m\n",
      "File \u001b[0;32m~/miniconda3/envs/opencv/lib/python3.9/os.py:215\u001b[0m, in \u001b[0;36mmakedirs\u001b[0;34m(name, mode, exist_ok)\u001b[0m\n\u001b[1;32m    213\u001b[0m \u001b[39mif\u001b[39;00m head \u001b[39mand\u001b[39;00m tail \u001b[39mand\u001b[39;00m \u001b[39mnot\u001b[39;00m path\u001b[39m.\u001b[39mexists(head):\n\u001b[1;32m    214\u001b[0m     \u001b[39mtry\u001b[39;00m:\n\u001b[0;32m--> 215\u001b[0m         makedirs(head, exist_ok\u001b[39m=\u001b[39;49mexist_ok)\n\u001b[1;32m    216\u001b[0m     \u001b[39mexcept\u001b[39;00m \u001b[39mFileExistsError\u001b[39;00m:\n\u001b[1;32m    217\u001b[0m         \u001b[39m# Defeats race condition when another thread created the path\u001b[39;00m\n\u001b[1;32m    218\u001b[0m         \u001b[39mpass\u001b[39;00m\n",
      "File \u001b[0;32m~/miniconda3/envs/opencv/lib/python3.9/os.py:225\u001b[0m, in \u001b[0;36mmakedirs\u001b[0;34m(name, mode, exist_ok)\u001b[0m\n\u001b[1;32m    223\u001b[0m         \u001b[39mreturn\u001b[39;00m\n\u001b[1;32m    224\u001b[0m \u001b[39mtry\u001b[39;00m:\n\u001b[0;32m--> 225\u001b[0m     mkdir(name, mode)\n\u001b[1;32m    226\u001b[0m \u001b[39mexcept\u001b[39;00m \u001b[39mOSError\u001b[39;00m:\n\u001b[1;32m    227\u001b[0m     \u001b[39m# Cannot rely on checking for EEXIST, since the operating system\u001b[39;00m\n\u001b[1;32m    228\u001b[0m     \u001b[39m# could give priority to other errors like EACCES or EROFS\u001b[39;00m\n\u001b[1;32m    229\u001b[0m     \u001b[39mif\u001b[39;00m \u001b[39mnot\u001b[39;00m exist_ok \u001b[39mor\u001b[39;00m \u001b[39mnot\u001b[39;00m path\u001b[39m.\u001b[39misdir(name):\n",
      "\u001b[0;31mOSError\u001b[0m: [Errno 30] Read-only file system: '/works'"
     ]
    }
   ],
   "source": [
    "image_folder = \"/works/pythonProject/Test Image/10x_40deg_step20um\"  # 이미지 폴더 경로 설정\n",
    "output_folder = \"/works/pythonProject/Test Image/10x_40deg_step20um/result\"  # 결과 이미지 저장 폴더 경로 설정\n",
    "\n",
    "# 결과 이미지 저장 폴더가 없으면 생성하기\n",
    "if not os.path.exists(output_folder):\n",
    "    os.makedirs(output_folder)\n",
    "\n",
    "# 이미지 폴더에서 파일 목록 가져오기\n",
    "file_list = os.listdir(image_folder)\n",
    "img_files = [file for file in file_list if file.endswith('.bmp')]\n",
    "# image_files = [f for f in os.listdir(image_folder) if os.path.isfile(os.path.join(image_folder, f))]\n",
    "\n",
    "stack = []\n",
    "for file_name in img_files:\n",
    "    file_path = os.path.join(image_folder, file_name)\n",
    "    \n",
    "    # 각 파일을 그레이스케일로 읽어와서 스택에 추가하기\n",
    "    img_gray = cv2.imread(file_path, cv2.IMREAD_GRAYSCALE)\n",
    "    \n",
    "    if img_gray is not None:\n",
    "        stack.append(img_gray)"
   ]
  },
  {
   "cell_type": "markdown",
   "metadata": {},
   "source": [
    "### EDOF Processing"
   ]
  },
  {
   "cell_type": "code",
   "execution_count": null,
   "metadata": {},
   "outputs": [],
   "source": [
    "num_levels = 3  # 다중 레벨 수 설정\n",
    "\n",
    "if len(stack) > 0:\n",
    "    # 다중 초점 이미지 결합 수행\n",
    "    result_image = combine_focus_stack(stack, num_levels)\n",
    "\n",
    "    output_file_path = os.path.join(output_folder, \"EDOF_image.jpg\")\n",
    "     # 결과 저장\n",
    "     cv2.imwrite(output_file_path , result_image)\n",
    "     print(\"Combined image saved successfully.\")\n",
    "else:\n",
    "     print(\"No images found in the folder.\")"
   ]
  },
  {
   "cell_type": "code",
   "execution_count": null,
   "metadata": {},
   "outputs": [],
   "source": []
  }
 ],
 "metadata": {
  "kernelspec": {
   "display_name": "opencv",
   "language": "python",
   "name": "python3"
  },
  "language_info": {
   "codemirror_mode": {
    "name": "ipython",
    "version": 3
   },
   "file_extension": ".py",
   "mimetype": "text/x-python",
   "name": "python",
   "nbconvert_exporter": "python",
   "pygments_lexer": "ipython3",
   "version": "3.9.17"
  },
  "orig_nbformat": 4
 },
 "nbformat": 4,
 "nbformat_minor": 2
}
